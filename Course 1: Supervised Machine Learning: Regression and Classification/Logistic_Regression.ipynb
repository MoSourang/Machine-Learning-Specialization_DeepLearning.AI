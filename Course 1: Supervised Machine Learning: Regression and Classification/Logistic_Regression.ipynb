{
  "nbformat": 4,
  "nbformat_minor": 0,
  "metadata": {
    "colab": {
      "provenance": []
    },
    "kernelspec": {
      "name": "python3",
      "display_name": "Python 3"
    },
    "language_info": {
      "name": "python"
    }
  },
  "cells": [
    {
      "cell_type": "code",
      "execution_count": null,
      "metadata": {
        "id": "eG4gDFlu8gCY"
      },
      "outputs": [],
      "source": [
        "def calculate_cost(x, y, w, b):\n",
        "\"\"\"calculate the cost function for linear regression with\n",
        "one feature x \"\"\"\n",
        "\n",
        "# Number of input feature\n",
        "m = x.shape[0]\n",
        "\n",
        "# Store the sum of all costs\n",
        "cost_sum = 0\n",
        "\n",
        "# Iterate and calculate cost\n",
        "for i in range(m):\n",
        "    f_wb = x[i] * w + b\n",
        "    cost = (f_wb - y[i]) ** 2\n",
        "    cost_sum += cost\n",
        "\n",
        "total_cost =  cost_sum / (2*m)\n",
        "return total_cost\n"
      ]
    }
  ]
}