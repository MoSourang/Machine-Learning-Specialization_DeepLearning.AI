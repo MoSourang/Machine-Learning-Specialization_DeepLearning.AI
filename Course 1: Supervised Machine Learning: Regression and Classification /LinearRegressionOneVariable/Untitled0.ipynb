{
  "nbformat": 4,
  "nbformat_minor": 0,
  "metadata": {
    "colab": {
      "provenance": [],
      "authorship_tag": "ABX9TyOqifbDfX/e6TCcDQI1hEg7",
      "include_colab_link": true
    },
    "kernelspec": {
      "name": "python3",
      "display_name": "Python 3"
    },
    "language_info": {
      "name": "python"
    }
  },
  "cells": [
    {
      "cell_type": "markdown",
      "metadata": {
        "id": "view-in-github",
        "colab_type": "text"
      },
      "source": [
        "<a href=\"https://colab.research.google.com/github/MoSourang/Machine-Learning-Specialization_DeepLearning.AI/blob/main/Course%201%3A%20Supervised%20Machine%20Learning%3A%20Regression%20and%20Classification%20/LinearRegressionOneVariable/Untitled0.ipynb\" target=\"_parent\"><img src=\"https://colab.research.google.com/assets/colab-badge.svg\" alt=\"Open In Colab\"/></a>"
      ]
    },
    {
      "cell_type": "code",
      "execution_count": null,
      "metadata": {
        "id": "8D7pOxLEx5Nu"
      },
      "outputs": [],
      "source": [
        "Test"
      ]
    }
  ]
}